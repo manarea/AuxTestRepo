{
 "cells": [
  {
   "cell_type": "code",
   "execution_count": 1,
   "metadata": {},
   "outputs": [
    {
     "ename": "ValueError",
     "evalue": "could not convert string to float: 'DirEntry'",
     "output_type": "error",
     "traceback": [
      "\u001b[1;31m---------------------------------------------------------------------------\u001b[0m",
      "\u001b[1;31mValueError\u001b[0m                                Traceback (most recent call last)",
      "Cell \u001b[1;32mIn[1], line 16\u001b[0m\n\u001b[0;32m      9\u001b[0m \u001b[39m# Make a heatmap of the data\u001b[39;00m\n\u001b[0;32m     10\u001b[0m \u001b[39m#App,TestClass,TestFilePath,ProductionFilePath,RelativeTestFilePath,RelativeProductionFilePath,NumberOfMethods,Assertion Roulette,Conditional Test Logic,Constructor Initialization,Default Test,EmptyTest,Exception Catching Throwing,General Fixture,Mystery Guest,Print Statement,Redundant Assertion,Sensitive Equality,Verbose Test,Sleepy Test,Eager Test,Lazy Test,Duplicate Assert,Unknown Test,IgnoredTest,Resource Optimism,Magic Number Test,Dependent Test\u001b[39;00m\n\u001b[0;32m     11\u001b[0m \n\u001b[0;32m     12\u001b[0m \u001b[39m# Path of the csv with the data Output_TestSmellDetection_1673054208026.csv\u001b[39;00m\n\u001b[0;32m     13\u001b[0m \n\u001b[0;32m     14\u001b[0m \u001b[39m# Read the csv file\u001b[39;00m\n\u001b[0;32m     15\u001b[0m df \u001b[39m=\u001b[39m pd\u001b[39m.\u001b[39mread_csv(\u001b[39m'\u001b[39m\u001b[39mOutput_TestSmellDetection_1673054208026.csv\u001b[39m\u001b[39m'\u001b[39m, sep\u001b[39m=\u001b[39m\u001b[39m'\u001b[39m\u001b[39m,\u001b[39m\u001b[39m'\u001b[39m, header\u001b[39m=\u001b[39m\u001b[39m0\u001b[39m)\n\u001b[1;32m---> 16\u001b[0m vhd \u001b[39m=\u001b[39m sns\u001b[39m.\u001b[39;49mheatmap(df, cmap\u001b[39m=\u001b[39;49m\u001b[39m\"\u001b[39;49m\u001b[39mYlGnBu\u001b[39;49m\u001b[39m\"\u001b[39;49m, linewidths\u001b[39m=\u001b[39;49m\u001b[39m.5\u001b[39;49m, annot\u001b[39m=\u001b[39;49m\u001b[39mTrue\u001b[39;49;00m, fmt\u001b[39m=\u001b[39;49m\u001b[39m\"\u001b[39;49m\u001b[39m.2f\u001b[39;49m\u001b[39m\"\u001b[39;49m, annot_kws\u001b[39m=\u001b[39;49m{\u001b[39m\"\u001b[39;49m\u001b[39msize\u001b[39;49m\u001b[39m\"\u001b[39;49m: \u001b[39m8\u001b[39;49m})\n\u001b[0;32m     17\u001b[0m vhd\u001b[39m.\u001b[39mset_xticklabels(vhd\u001b[39m.\u001b[39mget_xticklabels(), rotation\u001b[39m=\u001b[39m\u001b[39m45\u001b[39m, horizontalalignment\u001b[39m=\u001b[39m\u001b[39m'\u001b[39m\u001b[39mright\u001b[39m\u001b[39m'\u001b[39m)\n\u001b[0;32m     18\u001b[0m plt\u001b[39m.\u001b[39mshow()\n",
      "File \u001b[1;32mc:\\Users\\maxim\\AppData\\Local\\Programs\\Python\\Python310\\lib\\site-packages\\seaborn\\matrix.py:446\u001b[0m, in \u001b[0;36mheatmap\u001b[1;34m(data, vmin, vmax, cmap, center, robust, annot, fmt, annot_kws, linewidths, linecolor, cbar, cbar_kws, cbar_ax, square, xticklabels, yticklabels, mask, ax, **kwargs)\u001b[0m\n\u001b[0;32m    365\u001b[0m \u001b[39m\"\"\"Plot rectangular data as a color-encoded matrix.\u001b[39;00m\n\u001b[0;32m    366\u001b[0m \n\u001b[0;32m    367\u001b[0m \u001b[39mThis is an Axes-level function and will draw the heatmap into the\u001b[39;00m\n\u001b[1;32m   (...)\u001b[0m\n\u001b[0;32m    443\u001b[0m \n\u001b[0;32m    444\u001b[0m \u001b[39m\"\"\"\u001b[39;00m\n\u001b[0;32m    445\u001b[0m \u001b[39m# Initialize the plotter object\u001b[39;00m\n\u001b[1;32m--> 446\u001b[0m plotter \u001b[39m=\u001b[39m _HeatMapper(data, vmin, vmax, cmap, center, robust, annot, fmt,\n\u001b[0;32m    447\u001b[0m                       annot_kws, cbar, cbar_kws, xticklabels,\n\u001b[0;32m    448\u001b[0m                       yticklabels, mask)\n\u001b[0;32m    450\u001b[0m \u001b[39m# Add the pcolormesh kwargs here\u001b[39;00m\n\u001b[0;32m    451\u001b[0m kwargs[\u001b[39m\"\u001b[39m\u001b[39mlinewidths\u001b[39m\u001b[39m\"\u001b[39m] \u001b[39m=\u001b[39m linewidths\n",
      "File \u001b[1;32mc:\\Users\\maxim\\AppData\\Local\\Programs\\Python\\Python310\\lib\\site-packages\\seaborn\\matrix.py:163\u001b[0m, in \u001b[0;36m_HeatMapper.__init__\u001b[1;34m(self, data, vmin, vmax, cmap, center, robust, annot, fmt, annot_kws, cbar, cbar_kws, xticklabels, yticklabels, mask)\u001b[0m\n\u001b[0;32m    160\u001b[0m \u001b[39mself\u001b[39m\u001b[39m.\u001b[39mylabel \u001b[39m=\u001b[39m ylabel \u001b[39mif\u001b[39;00m ylabel \u001b[39mis\u001b[39;00m \u001b[39mnot\u001b[39;00m \u001b[39mNone\u001b[39;00m \u001b[39melse\u001b[39;00m \u001b[39m\"\u001b[39m\u001b[39m\"\u001b[39m\n\u001b[0;32m    162\u001b[0m \u001b[39m# Determine good default values for the colormapping\u001b[39;00m\n\u001b[1;32m--> 163\u001b[0m \u001b[39mself\u001b[39;49m\u001b[39m.\u001b[39;49m_determine_cmap_params(plot_data, vmin, vmax,\n\u001b[0;32m    164\u001b[0m                             cmap, center, robust)\n\u001b[0;32m    166\u001b[0m \u001b[39m# Sort out the annotations\u001b[39;00m\n\u001b[0;32m    167\u001b[0m \u001b[39mif\u001b[39;00m annot \u001b[39mis\u001b[39;00m \u001b[39mNone\u001b[39;00m \u001b[39mor\u001b[39;00m annot \u001b[39mis\u001b[39;00m \u001b[39mFalse\u001b[39;00m:\n",
      "File \u001b[1;32mc:\\Users\\maxim\\AppData\\Local\\Programs\\Python\\Python310\\lib\\site-packages\\seaborn\\matrix.py:197\u001b[0m, in \u001b[0;36m_HeatMapper._determine_cmap_params\u001b[1;34m(self, plot_data, vmin, vmax, cmap, center, robust)\u001b[0m\n\u001b[0;32m    194\u001b[0m \u001b[39m\"\"\"Use some heuristics to set good defaults for colorbar and range.\"\"\"\u001b[39;00m\n\u001b[0;32m    196\u001b[0m \u001b[39m# plot_data is a np.ma.array instance\u001b[39;00m\n\u001b[1;32m--> 197\u001b[0m calc_data \u001b[39m=\u001b[39m plot_data\u001b[39m.\u001b[39;49mastype(\u001b[39mfloat\u001b[39;49m)\u001b[39m.\u001b[39mfilled(np\u001b[39m.\u001b[39mnan)\n\u001b[0;32m    198\u001b[0m \u001b[39mif\u001b[39;00m vmin \u001b[39mis\u001b[39;00m \u001b[39mNone\u001b[39;00m:\n\u001b[0;32m    199\u001b[0m     \u001b[39mif\u001b[39;00m robust:\n",
      "\u001b[1;31mValueError\u001b[0m: could not convert string to float: 'DirEntry'"
     ]
    }
   ],
   "source": [
    "import numpy as np\n",
    "import pandas as pd\n",
    "import seaborn as sns\n",
    "import matplotlib.pyplot as plt\n",
    "from matplotlib import cm\n",
    "from matplotlib import colors\n",
    "import matplotlib.patheffects as path_effects\n",
    "\n",
    "# Make a heatmap of the data\n",
    "#App,TestClass,TestFilePath,ProductionFilePath,RelativeTestFilePath,RelativeProductionFilePath,NumberOfMethods,Assertion Roulette,Conditional Test Logic,Constructor Initialization,Default Test,EmptyTest,Exception Catching Throwing,General Fixture,Mystery Guest,Print Statement,Redundant Assertion,Sensitive Equality,Verbose Test,Sleepy Test,Eager Test,Lazy Test,Duplicate Assert,Unknown Test,IgnoredTest,Resource Optimism,Magic Number Test,Dependent Test\n",
    "\n",
    "# Path of the csv with the data Output_TestSmellDetection_1673054208026.csv\n",
    "\n",
    "# Read the csv file\n",
    "df = pd.read_csv('Output_TestSmellDetection_1673054208026.csv', sep=',', header=0)\n",
    "# get only the columns we need, which are App, Assertion Roulette,Conditional Test Logic,Constructor Initialization,Default Test,EmptyTest,Exception Catching Throwing,General Fixture,Mystery Guest,Print Statement,Redundant Assertion,Sensitive Equality,Verbose Test,Sleepy Test,Eager Test,Lazy Test,Duplicate Assert,Unknown Test,IgnoredTest,Resource Optimism,Magic Number Test,Dependent Test\n",
    "df = df[['App','Assertion Roulette','Conditional Test Logic','Constructor Initialization','Default Test','EmptyTest','Exception Catching Throwing','General Fixture','Mystery Guest','Print Statement','Redundant Assertion','Sensitive Equality','Verbose Test','Sleepy Test','Eager Test','Lazy Test','Duplicate Assert','Unknown Test','IgnoredTest','Resource Optimism','Magic Number Test','Dependent Test']]\n",
    "# get only the columns we need, Assertion Roulette;Eager Test;Mystery Guest;Sleepy Test;Unknown Test;Redundant Assertion;Dependent Test;Magic Number Test;Conditional Test Logic;EmptyTest;General Fixture;IgnoredTest;Sensitive Equality;Verbose Test;Default Test;Resource Optimism;Duplicate Assert;Exception Catching Throwing;Constructor Initialization;Print Statement;Lazy Test\n",
    "df = df[['Assertion Roulette','Eager Test','Mystery Guest','Sleepy Test','Unknown Test','Redundant Assertion','Dependent Test','Magic Number Test','Conditional Test Logic','EmptyTest','General Fixture','IgnoredTest','Sensitive Equality','Verbose Test','Default Test','Resource Optimism','Duplicate Assert','Exception Catching Throwing','Constructor Initialization','Print Statement','Lazy Test']]\n",
    "vhd.set_xticklabels(vhd.get_xticklabels(), rotation=45, horizontalalignment='right')\n",
    "plt.show()\n",
    "\n"
   ]
  },
  {
   "cell_type": "code",
   "execution_count": null,
   "metadata": {},
   "outputs": [],
   "source": [
    "import numpy as np\n",
    "import pandas as pd\n",
    "import seaborn as sns\n",
    "import matplotlib.pyplot as plt\n",
    "from matplotlib import cm\n",
    "from matplotlib import colors\n",
    "import matplotlib.patheffects as path_effects\n",
    "\n",
    "# Make a heatmap of the data\n",
    "#App,TestClass,TestFilePath,ProductionFilePath,RelativeTestFilePath,RelativeProductionFilePath,NumberOfMethods,Assertion Roulette,Conditional Test Logic,Constructor Initialization,Default Test,EmptyTest,Exception Catching Throwing,General Fixture,Mystery Guest,Print Statement,Redundant Assertion,Sensitive Equality,Verbose Test,Sleepy Test,Eager Test,Lazy Test,Duplicate Assert,Unknown Test,IgnoredTest,Resource Optimism,Magic Number Test,Dependent Test\n",
    "\n",
    "# Path of the csv with the data Output_TestSmellDetection_1673054208026.csv\n",
    "\n",
    "# Read the csv file\n",
    "plt.rcParams['figure.figsize'] = (30, 20)\n",
    "# df = pd.read_csv('Output_TestSmellDetection_1673054208026.csv', sep=',', header=0)\n",
    "df = pd.read_csv('/content/aux2_result_byclasstest_testsmells (3).csv', sep=';', header=0)\n",
    "# df = df[['Assertion Roulette','Conditional Test Logic','Constructor Initialization','Default Test','EmptyTest','Exception Catching Throwing','General Fixture','Mystery Guest','Print Statement','Redundant Assertion','Sensitive Equality','Verbose Test','Sleepy Test','Eager Test','Lazy Test','Duplicate Assert','Unknown Test','IgnoredTest','Resource Optimism','Magic Number Test','Dependent Test']]\n",
    "df = df[['Assertion Roulette','Eager Test','Mystery Guest','Sleepy Test','Unknown Test','Redundant Assertion','Dependent Test','Magic Number Test','Conditional Test Logic','EmptyTest','General Fixture','IgnoredTest','Sensitive Equality','Verbose Test','Default Test','Resource Optimism','Duplicate Assert','Exception Catching Throwing','Constructor Initialization','Print Statement','Lazy Test']]\n",
    "vhd = sns.heatmap(df, annot=True, fmt=\"d\", annot_kws={'size': 5}, linewidths=1.5, cmap=\"YlOrBr\")\n",
    "# vhd.set_xticklabels(vhd.get_xticklabels(), rotation=45, horizontalalignment='right')\n",
    "# plt.show()\n",
    "\n"
   ]
  }
 ],
 "metadata": {
  "kernelspec": {
   "display_name": "Python 3",
   "language": "python",
   "name": "python3"
  },
  "language_info": {
   "codemirror_mode": {
    "name": "ipython",
    "version": 3
   },
   "file_extension": ".py",
   "mimetype": "text/x-python",
   "name": "python",
   "nbconvert_exporter": "python",
   "pygments_lexer": "ipython3",
   "version": "3.10.6"
  },
  "orig_nbformat": 4,
  "vscode": {
   "interpreter": {
    "hash": "65c45682600b822032a055cbf04f0dc5abe5e3c026f7225f43ce560cd84c5728"
   }
  }
 },
 "nbformat": 4,
 "nbformat_minor": 2
}
